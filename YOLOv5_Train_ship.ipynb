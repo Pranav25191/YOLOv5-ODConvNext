{
  "nbformat": 4,
  "nbformat_minor": 0,
  "metadata": {
    "colab": {
      "provenance": []
    },
    "kernelspec": {
      "name": "python3",
      "display_name": "Python 3"
    },
    "language_info": {
      "name": "python"
    },
    "accelerator": "GPU",
    "gpuClass": "standard"
  },
  "cells": [
    {
      "cell_type": "markdown",
      "source": [
        "#<b> Note <b> change the runtime to GPU before running"
      ],
      "metadata": {
        "id": "7rGVDab2faRr"
      }
    },
    {
      "cell_type": "markdown",
      "source": [
        "### GIT Clone Command"
      ],
      "metadata": {
        "id": "lMcYldmgfkCz"
      }
    },
    {
      "cell_type": "code",
      "execution_count": 1,
      "metadata": {
        "id": "z7ddWuD-drCv",
        "outputId": "5e5b5f92-1797-47f4-c50d-db4e3679effa",
        "colab": {
          "base_uri": "https://localhost:8080/"
        }
      },
      "outputs": [
        {
          "output_type": "stream",
          "name": "stdout",
          "text": [
            "Cloning into 'YOLOv5-ODConvNext'...\n",
            "remote: Enumerating objects: 2576, done.\u001b[K\n",
            "remote: Counting objects: 100% (232/232), done.\u001b[K\n",
            "remote: Compressing objects: 100% (166/166), done.\u001b[K\n",
            "remote: Total 2576 (delta 72), reused 223 (delta 63), pack-reused 2344\u001b[K\n",
            "Receiving objects: 100% (2576/2576), 65.62 MiB | 15.31 MiB/s, done.\n",
            "Resolving deltas: 100% (85/85), done.\n"
          ]
        }
      ],
      "source": [
        "!git clone https://github.com/Pranav25191/YOLOv5-ODConvNext.git"
      ]
    },
    {
      "cell_type": "markdown",
      "source": [
        "##Changing the working Directory"
      ],
      "metadata": {
        "id": "QPilEwBvfvXr"
      }
    },
    {
      "cell_type": "code",
      "source": [
        "cd /content/YOLOv5-ODConvNext"
      ],
      "metadata": {
        "id": "wmhyWeakdx17",
        "outputId": "b32766cc-82aa-4492-94a5-4d7fb6cbc7a7",
        "colab": {
          "base_uri": "https://localhost:8080/"
        }
      },
      "execution_count": 2,
      "outputs": [
        {
          "output_type": "stream",
          "name": "stdout",
          "text": [
            "/content/YOLOv5-ODConvNext\n"
          ]
        }
      ]
    },
    {
      "cell_type": "markdown",
      "source": [
        "##Copying the dataset to the required directory\n"
      ],
      "metadata": {
        "id": "he_DTl-xf21l"
      }
    },
    {
      "cell_type": "code",
      "source": [
        "!cp -r /content/YOLOv5-ODConvNext/datasets /content/datasets"
      ],
      "metadata": {
        "id": "KGWn9Gjad8p3"
      },
      "execution_count": 3,
      "outputs": []
    },
    {
      "cell_type": "markdown",
      "source": [
        "## Check to makesure there is no Gelu error.\n",
        "\n",
        "\n"
      ],
      "metadata": {
        "id": "Wf-axg3igAiV"
      }
    },
    {
      "cell_type": "code",
      "source": [
        "!sed -i 's/F\\.gelu(input, approximate=self\\.approximate)/F.gelu(input)/g' /usr/local/lib/python3.9/dist-packages/torch/nn/modules/activation.py"
      ],
      "metadata": {
        "id": "ySqe-tY8dxyj",
        "outputId": "bedfdc7d-1105-40ea-d489-c3d3ee016862",
        "colab": {
          "base_uri": "https://localhost:8080/"
        }
      },
      "execution_count": 4,
      "outputs": [
        {
          "output_type": "stream",
          "name": "stdout",
          "text": [
            "sed: can't read /usr/local/lib/python3.9/dist-packages/torch/nn/modules/activation.py: No such file or directory\n"
          ]
        }
      ]
    },
    {
      "cell_type": "markdown",
      "source": [
        "##Training the model"
      ],
      "metadata": {
        "id": "WXn74PWKgRRF"
      }
    },
    {
      "cell_type": "code",
      "source": [
        "!python3 train.py --data data/MyShip3200.yaml    --cfg models/yolov5-odconvnext.yaml    --hyp data/hyps/hyp.scratch-low.yaml    --epoch 500    --batch-size 32       --workers 8"
      ],
      "metadata": {
        "id": "gWbH5X5ydxtF",
        "outputId": "4ceed293-3af6-414c-fa67-bfe3d37a2d1a",
        "colab": {
          "base_uri": "https://localhost:8080/"
        }
      },
      "execution_count": null,
      "outputs": [
        {
          "output_type": "stream",
          "name": "stdout",
          "text": [
            "Downloading https://ultralytics.com/assets/Arial.ttf to /root/.config/Ultralytics/Arial.ttf...\n",
            "2023-04-28 06:12:15.288703: I tensorflow/core/platform/cpu_feature_guard.cc:182] This TensorFlow binary is optimized to use available CPU instructions in performance-critical operations.\n",
            "To enable the following instructions: AVX2 AVX512F FMA, in other operations, rebuild TensorFlow with the appropriate compiler flags.\n",
            "2023-04-28 06:12:16.246191: W tensorflow/compiler/tf2tensorrt/utils/py_utils.cc:38] TF-TRT Warning: Could not find TensorRT\n",
            "\u001b[34m\u001b[1mtrain: \u001b[0mweights=, cfg=models/yolov5-odconvnext.yaml, data=data/MyShip3200.yaml, hyp=data/hyps/hyp.scratch-low.yaml, epochs=500, batch_size=32, imgsz=640, rect=False, resume=False, nosave=False, noval=False, noautoanchor=False, evolve=None, bucket=, cache=None, image_weights=False, device=, multi_scale=False, single_cls=False, optimizer=SGD, sync_bn=False, workers=8, project=runs/train, name=exp, exist_ok=False, quad=False, cos_lr=False, label_smoothing=0.0, patience=100, freeze=[0], save_period=-1, local_rank=-1, entity=None, upload_dataset=False, bbox_interval=-1, artifact_alias=latest\n",
            "\u001b[34m\u001b[1mgithub: \u001b[0mup to date with https://github.com/Pranav25191/YOLOv5-ODConvNex ✅\n",
            "YOLOv5 🚀 5856e23 torch 2.0.0+cu118 CUDA:0 (Tesla T4, 15102MiB)\n",
            "\n",
            "\u001b[34m\u001b[1mhyperparameters: \u001b[0mlr0=0.01, lrf=0.01, momentum=0.937, weight_decay=0.0005, warmup_epochs=3.0, warmup_momentum=0.8, warmup_bias_lr=0.1, box=0.05, cls=0.5, cls_pw=1.0, obj=1.0, obj_pw=1.0, iou_t=0.2, anchor_t=4.0, fl_gamma=0.0, hsv_h=0.015, hsv_s=0.7, hsv_v=0.4, degrees=0.0, translate=0.1, scale=0.5, shear=0.0, perspective=0.0, flipud=0.0, fliplr=0.5, mosaic=1.0, mixup=0.0, copy_paste=0.0\n",
            "\u001b[34m\u001b[1mWeights & Biases: \u001b[0mrun 'pip install wandb' to automatically track and visualize YOLOv5 🚀 runs (RECOMMENDED)\n",
            "\u001b[34m\u001b[1mTensorBoard: \u001b[0mStart with 'tensorboard --logdir runs/train', view at http://localhost:6006/\n",
            "\n",
            "                 from  n    params  module                                  arguments                     \n",
            "  0                -1  1      3520  models.common.Conv                      [3, 32, 6, 2, 2]              \n",
            "  1                -1  1     78219  models.common.ODConv_3rd                [32, 128, 3, 2, 2]            \n",
            "  2                -1  1     22912  models.common.C3                        [128, 64, 1]                  \n",
            "  3                -1  1     73984  models.common.Conv                      [64, 128, 3, 2]               \n",
            "  4                -1  2    115712  models.common.C3                        [128, 128, 2]                 \n",
            "  5                -1  1    295424  models.common.Conv                      [128, 256, 3, 2]              \n",
            "  6                -1  1    539136  models.common.ConvNextBlock             [256, 256, 256, 9, 7]         \n",
            "  7                -1  1   1180672  models.common.Conv                      [256, 512, 3, 2]              \n",
            "  8                -1  1   1182720  models.common.C3                        [512, 512, 1]                 \n",
            "  9                -1  1    656896  models.common.SPPF                      [512, 512, 5]                 \n",
            " 10                -1  1    131584  models.common.Conv                      [512, 256, 1, 1]              \n",
            " 11                -1  1         0  torch.nn.modules.upsampling.Upsample    [None, 2, 'nearest']          \n",
            " 12           [-1, 6]  1         0  models.common.Concat                    [1]                           \n",
            " 13                -1  1    361984  models.common.C3                        [512, 256, 1, False]          \n",
            " 14                -1  1     33024  models.common.Conv                      [256, 128, 1, 1]              \n",
            " 15                -1  1         0  torch.nn.modules.upsampling.Upsample    [None, 2, 'nearest']          \n",
            " 16           [-1, 4]  1         0  models.common.Concat                    [1]                           \n",
            " 17                -1  1     90880  models.common.C3                        [256, 128, 1, False]          \n",
            " 18                -1  1    147712  models.common.Conv                      [128, 128, 3, 2]              \n",
            " 19          [-1, 14]  1         0  models.common.Concat                    [1]                           \n",
            " 20                -1  1    296448  models.common.C3                        [256, 256, 1, False]          \n",
            " 21                -1  1    590336  models.common.Conv                      [256, 256, 3, 2]              \n",
            " 22          [-1, 10]  1         0  models.common.Concat                    [1]                           \n",
            " 23                -1  1   1182720  models.common.C3                        [512, 512, 1, False]          \n",
            " 24      [17, 20, 23]  1     16182  models.yolo.Detect                      [1, [[10, 13, 16, 30, 33, 23], [30, 61, 62, 45, 59, 119], [116, 90, 156, 198, 373, 326]], [128, 256, 512]]\n",
            "Model Summary: 245 layers, 7000065 parameters, 7000065 gradients\n",
            "\n",
            "Scaled weight_decay = 0.0005\n",
            "\u001b[34m\u001b[1moptimizer:\u001b[0m SGD with parameter groups 49 weight (no decay), 61 weight, 62 bias\n",
            "\u001b[34m\u001b[1malbumentations: \u001b[0mBlur(always_apply=False, p=0.01, blur_limit=(3, 7)), MedianBlur(always_apply=False, p=0.01, blur_limit=(3, 7)), ToGray(always_apply=False, p=0.01), CLAHE(always_apply=False, p=0.01, clip_limit=(1, 4.0), tile_grid_size=(8, 8))\n",
            "\u001b[34m\u001b[1mtrain: \u001b[0mScanning '/content/datasets/MyShip3200/train/labels' images and labels...1224 found, 0 missing, 0 empty, 0 corrupt: 100% 1224/1224 [00:00<00:00, 1904.92it/s]\n",
            "\u001b[34m\u001b[1mtrain: \u001b[0mNew cache created: /content/datasets/MyShip3200/train/labels.cache\n",
            "\u001b[34m\u001b[1mval: \u001b[0mScanning '/content/datasets/MyShip3200/val/labels' images and labels...113 found, 0 missing, 0 empty, 0 corrupt: 100% 113/113 [00:00<00:00, 879.92it/s]\n",
            "\u001b[34m\u001b[1mval: \u001b[0mNew cache created: /content/datasets/MyShip3200/val/labels.cache\n",
            "Plotting labels to runs/train/exp5/labels.jpg... \n",
            "\n",
            "\u001b[34m\u001b[1mAutoAnchor: \u001b[0m4.33 anchors/target, 0.988 Best Possible Recall (BPR). Current anchors are a good fit to dataset ✅\n",
            "Image sizes 640 train, 640 val\n",
            "Using 2 dataloader workers\n",
            "Logging results to \u001b[1mruns/train/exp5\u001b[0m\n",
            "Starting training for 500 epochs...\n",
            "\n",
            "     Epoch   gpu_mem       box       obj       cls    labels  img_size\n",
            "     0/499     7.57G    0.1152   0.02822         0        18       640: 100% 39/39 [00:47<00:00,  1.21s/it]\n",
            "               Class     Images     Labels          P          R     mAP@.5 mAP@.5:.95: 100% 2/2 [00:04<00:00,  2.38s/it]\n",
            "                 all        113        304    0.00159      0.178    0.00108   0.000202\n",
            "\n",
            "     Epoch   gpu_mem       box       obj       cls    labels  img_size\n",
            "     1/499      9.9G    0.1036   0.03039         0        78       640: 100% 39/39 [00:35<00:00,  1.10it/s]\n",
            "               Class     Images     Labels          P          R     mAP@.5 mAP@.5:.95: 100% 2/2 [00:02<00:00,  1.15s/it]\n",
            "                 all        113        304    0.00112      0.125   0.000633   0.000135\n",
            "\n",
            "     Epoch   gpu_mem       box       obj       cls    labels  img_size\n",
            "     2/499      9.9G   0.09733   0.02932         0         9       640: 100% 39/39 [00:37<00:00,  1.05it/s]\n",
            "               Class     Images     Labels          P          R     mAP@.5 mAP@.5:.95: 100% 2/2 [00:03<00:00,  1.57s/it]\n",
            "                 all        113        304    0.00103      0.115   0.000579   0.000108\n",
            "\n",
            "     Epoch   gpu_mem       box       obj       cls    labels  img_size\n",
            "     3/499      9.9G   0.09736   0.03216         0        18       640: 100% 39/39 [00:38<00:00,  1.02it/s]\n",
            "               Class     Images     Labels          P          R     mAP@.5 mAP@.5:.95: 100% 2/2 [00:03<00:00,  1.54s/it]\n",
            "                 all        113        304    0.00195      0.217    0.00256   0.000466\n",
            "\n",
            "     Epoch   gpu_mem       box       obj       cls    labels  img_size\n",
            "     4/499      9.9G   0.09343    0.0313         0        55       640: 100% 39/39 [00:38<00:00,  1.03it/s]\n",
            "               Class     Images     Labels          P          R     mAP@.5 mAP@.5:.95: 100% 2/2 [00:02<00:00,  1.15s/it]\n",
            "                 all        113        304     0.0028      0.312     0.0166    0.00296\n",
            "\n",
            "     Epoch   gpu_mem       box       obj       cls    labels  img_size\n",
            "     5/499      9.9G   0.08856   0.02843         0       144       640: 100% 39/39 [00:36<00:00,  1.05it/s]\n",
            "               Class     Images     Labels          P          R     mAP@.5 mAP@.5:.95: 100% 2/2 [00:02<00:00,  1.28s/it]\n",
            "                 all        113        304      0.299      0.217      0.124     0.0262\n",
            "\n",
            "     Epoch   gpu_mem       box       obj       cls    labels  img_size\n",
            "  0% 0/39 [00:00<?, ?it/s]"
          ]
        }
      ]
    },
    {
      "cell_type": "markdown",
      "source": [
        "##Testing the model."
      ],
      "metadata": {
        "id": "pjJr2G2kgWNJ"
      }
    },
    {
      "cell_type": "code",
      "source": [
        "!python3 detect.py --weights checkpoints/best.pt --source data/images --line-thickness 2"
      ],
      "metadata": {
        "id": "cTAKsxAidxqX"
      },
      "execution_count": null,
      "outputs": []
    },
    {
      "cell_type": "code",
      "source": [],
      "metadata": {
        "id": "erta8XVaeMoQ"
      },
      "execution_count": null,
      "outputs": []
    }
  ]
}